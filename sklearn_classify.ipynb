{
 "cells": [
  {
   "cell_type": "code",
   "execution_count": 1,
   "metadata": {},
   "outputs": [],
   "source": [
    "import numpy as np\n",
    "import pandas as pd\n",
    "import matplotlib.pyplot as plt\n",
    "from sklearn.gaussian_process import GaussianProcessClassifier\n",
    "from sklearn.gaussian_process.kernels import RBF\n",
    "from sklearn.model_selection import train_test_split\n",
    "import pickle"
   ]
  },
  {
   "cell_type": "code",
   "execution_count": 2,
   "metadata": {},
   "outputs": [],
   "source": [
    "df = pd.read_csv(\"train_0_8074-8079.csv\").drop('Unnamed: 0', axis=1)"
   ]
  },
  {
   "cell_type": "code",
   "execution_count": 3,
   "metadata": {},
   "outputs": [],
   "source": [
    "df = df.dropna()"
   ]
  },
  {
   "cell_type": "code",
   "execution_count": 4,
   "metadata": {},
   "outputs": [
    {
     "data": {
      "text/html": [
       "<div>\n",
       "<style scoped>\n",
       "    .dataframe tbody tr th:only-of-type {\n",
       "        vertical-align: middle;\n",
       "    }\n",
       "\n",
       "    .dataframe tbody tr th {\n",
       "        vertical-align: top;\n",
       "    }\n",
       "\n",
       "    .dataframe thead th {\n",
       "        text-align: right;\n",
       "    }\n",
       "</style>\n",
       "<table border=\"1\" class=\"dataframe\">\n",
       "  <thead>\n",
       "    <tr style=\"text-align: right;\">\n",
       "      <th></th>\n",
       "      <th>8074</th>\n",
       "      <th>8075</th>\n",
       "      <th>8076</th>\n",
       "      <th>8077</th>\n",
       "      <th>8078</th>\n",
       "      <th>8079</th>\n",
       "      <th>y</th>\n",
       "    </tr>\n",
       "  </thead>\n",
       "  <tbody>\n",
       "    <tr>\n",
       "      <th>0</th>\n",
       "      <td>0.087897</td>\n",
       "      <td>0.272514</td>\n",
       "      <td>5.317310e-01</td>\n",
       "      <td>0.661067</td>\n",
       "      <td>0.609795</td>\n",
       "      <td>0.045854</td>\n",
       "      <td>0</td>\n",
       "    </tr>\n",
       "    <tr>\n",
       "      <th>1</th>\n",
       "      <td>0.978955</td>\n",
       "      <td>0.351899</td>\n",
       "      <td>9.126486e-01</td>\n",
       "      <td>0.380977</td>\n",
       "      <td>0.566955</td>\n",
       "      <td>0.298615</td>\n",
       "      <td>0</td>\n",
       "    </tr>\n",
       "    <tr>\n",
       "      <th>2</th>\n",
       "      <td>0.358252</td>\n",
       "      <td>0.476503</td>\n",
       "      <td>1.423748e-01</td>\n",
       "      <td>0.160891</td>\n",
       "      <td>0.362595</td>\n",
       "      <td>0.144221</td>\n",
       "      <td>0</td>\n",
       "    </tr>\n",
       "    <tr>\n",
       "      <th>3</th>\n",
       "      <td>0.758974</td>\n",
       "      <td>0.300949</td>\n",
       "      <td>7.496507e-01</td>\n",
       "      <td>0.181335</td>\n",
       "      <td>0.632513</td>\n",
       "      <td>0.076767</td>\n",
       "      <td>0</td>\n",
       "    </tr>\n",
       "    <tr>\n",
       "      <th>4</th>\n",
       "      <td>0.415461</td>\n",
       "      <td>0.127709</td>\n",
       "      <td>3.200000e-17</td>\n",
       "      <td>0.736028</td>\n",
       "      <td>0.925196</td>\n",
       "      <td>0.740035</td>\n",
       "      <td>0</td>\n",
       "    </tr>\n",
       "    <tr>\n",
       "      <th>...</th>\n",
       "      <td>...</td>\n",
       "      <td>...</td>\n",
       "      <td>...</td>\n",
       "      <td>...</td>\n",
       "      <td>...</td>\n",
       "      <td>...</td>\n",
       "      <td>...</td>\n",
       "    </tr>\n",
       "    <tr>\n",
       "      <th>1347</th>\n",
       "      <td>0.340086</td>\n",
       "      <td>0.479120</td>\n",
       "      <td>6.236736e-01</td>\n",
       "      <td>0.788215</td>\n",
       "      <td>0.516446</td>\n",
       "      <td>0.002882</td>\n",
       "      <td>1</td>\n",
       "    </tr>\n",
       "    <tr>\n",
       "      <th>1348</th>\n",
       "      <td>0.719051</td>\n",
       "      <td>0.660135</td>\n",
       "      <td>7.722821e-01</td>\n",
       "      <td>0.337061</td>\n",
       "      <td>0.011590</td>\n",
       "      <td>0.816464</td>\n",
       "      <td>1</td>\n",
       "    </tr>\n",
       "    <tr>\n",
       "      <th>1349</th>\n",
       "      <td>0.664989</td>\n",
       "      <td>0.529594</td>\n",
       "      <td>3.228590e-02</td>\n",
       "      <td>0.109111</td>\n",
       "      <td>0.565365</td>\n",
       "      <td>0.387761</td>\n",
       "      <td>1</td>\n",
       "    </tr>\n",
       "    <tr>\n",
       "      <th>1350</th>\n",
       "      <td>0.178930</td>\n",
       "      <td>0.802121</td>\n",
       "      <td>4.488011e-02</td>\n",
       "      <td>0.443269</td>\n",
       "      <td>0.423925</td>\n",
       "      <td>0.637418</td>\n",
       "      <td>1</td>\n",
       "    </tr>\n",
       "    <tr>\n",
       "      <th>1351</th>\n",
       "      <td>0.287430</td>\n",
       "      <td>0.078733</td>\n",
       "      <td>2.773461e-01</td>\n",
       "      <td>0.327573</td>\n",
       "      <td>0.395382</td>\n",
       "      <td>0.900256</td>\n",
       "      <td>1</td>\n",
       "    </tr>\n",
       "  </tbody>\n",
       "</table>\n",
       "<p>1350 rows × 7 columns</p>\n",
       "</div>"
      ],
      "text/plain": [
       "          8074      8075          8076      8077      8078      8079  y\n",
       "0     0.087897  0.272514  5.317310e-01  0.661067  0.609795  0.045854  0\n",
       "1     0.978955  0.351899  9.126486e-01  0.380977  0.566955  0.298615  0\n",
       "2     0.358252  0.476503  1.423748e-01  0.160891  0.362595  0.144221  0\n",
       "3     0.758974  0.300949  7.496507e-01  0.181335  0.632513  0.076767  0\n",
       "4     0.415461  0.127709  3.200000e-17  0.736028  0.925196  0.740035  0\n",
       "...        ...       ...           ...       ...       ...       ... ..\n",
       "1347  0.340086  0.479120  6.236736e-01  0.788215  0.516446  0.002882  1\n",
       "1348  0.719051  0.660135  7.722821e-01  0.337061  0.011590  0.816464  1\n",
       "1349  0.664989  0.529594  3.228590e-02  0.109111  0.565365  0.387761  1\n",
       "1350  0.178930  0.802121  4.488011e-02  0.443269  0.423925  0.637418  1\n",
       "1351  0.287430  0.078733  2.773461e-01  0.327573  0.395382  0.900256  1\n",
       "\n",
       "[1350 rows x 7 columns]"
      ]
     },
     "execution_count": 4,
     "metadata": {},
     "output_type": "execute_result"
    }
   ],
   "source": [
    "df"
   ]
  },
  {
   "cell_type": "code",
   "execution_count": 16,
   "metadata": {},
   "outputs": [],
   "source": [
    "x = df.values[:, :6]\n",
    "y = df.values[:, 6]"
   ]
  },
  {
   "cell_type": "code",
   "execution_count": 17,
   "metadata": {},
   "outputs": [
    {
     "data": {
      "text/plain": [
       "array([[0.08789663, 0.27251401, 0.53173101, 0.661067  , 0.60979504,\n",
       "        0.04585424],\n",
       "       [0.97895523, 0.35189862, 0.91264861, 0.38097677, 0.56695487,\n",
       "        0.29861541],\n",
       "       [0.35825235, 0.4765028 , 0.14237476, 0.16089122, 0.36259527,\n",
       "        0.1442209 ],\n",
       "       ...,\n",
       "       [0.66498865, 0.52959436, 0.0322859 , 0.10911137, 0.56536537,\n",
       "        0.38776068],\n",
       "       [0.17892992, 0.80212119, 0.04488011, 0.44326874, 0.42392481,\n",
       "        0.63741808],\n",
       "       [0.28743018, 0.07873275, 0.27734615, 0.32757303, 0.39538164,\n",
       "        0.90025597]])"
      ]
     },
     "execution_count": 17,
     "metadata": {},
     "output_type": "execute_result"
    }
   ],
   "source": [
    "x"
   ]
  },
  {
   "cell_type": "code",
   "execution_count": 22,
   "metadata": {},
   "outputs": [],
   "source": [
    "x_train, x_test, y_train, y_test = train_test_split(x, y, test_size=0.2)"
   ]
  },
  {
   "cell_type": "code",
   "execution_count": 26,
   "metadata": {},
   "outputs": [],
   "source": [
    "clf = GaussianProcessClassifier(1.0 * RBF(1.0), max_iter_predict=1000)"
   ]
  },
  {
   "cell_type": "code",
   "execution_count": 27,
   "metadata": {},
   "outputs": [
    {
     "data": {
      "text/plain": [
       "GaussianProcessClassifier(copy_X_train=True,\n",
       "             kernel=1**2 * RBF(length_scale=1), max_iter_predict=1000,\n",
       "             multi_class='one_vs_rest', n_jobs=1, n_restarts_optimizer=0,\n",
       "             optimizer='fmin_l_bfgs_b', random_state=None,\n",
       "             warm_start=False)"
      ]
     },
     "execution_count": 27,
     "metadata": {},
     "output_type": "execute_result"
    }
   ],
   "source": [
    "clf.fit(x, y)"
   ]
  },
  {
   "cell_type": "code",
   "execution_count": 28,
   "metadata": {},
   "outputs": [
    {
     "data": {
      "text/plain": [
       "0.9177777777777778"
      ]
     },
     "execution_count": 28,
     "metadata": {},
     "output_type": "execute_result"
    }
   ],
   "source": [
    "clf.score(x, y)"
   ]
  },
  {
   "cell_type": "code",
   "execution_count": 23,
   "metadata": {},
   "outputs": [],
   "source": [
    "model_saver = open('gaussian_model_fisher_0_8074-8079.mdl', mode='wb')\n",
    "pickle.dump(clf, model_saver)\n",
    "model_saver.close()"
   ]
  },
  {
   "cell_type": "code",
   "execution_count": 52,
   "metadata": {},
   "outputs": [],
   "source": [
    "model_loader = open('gaussian_model_fisher_0.mdl', mode='rb')\n",
    "clf_r = pickle.load(model_loader)\n",
    "model_loader.close()"
   ]
  },
  {
   "cell_type": "code",
   "execution_count": 54,
   "metadata": {},
   "outputs": [
    {
     "data": {
      "text/plain": [
       "0.912962962962963"
      ]
     },
     "execution_count": 54,
     "metadata": {},
     "output_type": "execute_result"
    }
   ],
   "source": [
    "clf_r.score(x_train, y_train)"
   ]
  },
  {
   "cell_type": "code",
   "execution_count": null,
   "metadata": {},
   "outputs": [],
   "source": []
  }
 ],
 "metadata": {
  "kernelspec": {
   "display_name": "Python 3.6 (Conda 5.2) [python/3.6-conda5.2]",
   "language": "python",
   "name": "sys_python36conda"
  },
  "language_info": {
   "codemirror_mode": {
    "name": "ipython",
    "version": 3
   },
   "file_extension": ".py",
   "mimetype": "text/x-python",
   "name": "python",
   "nbconvert_exporter": "python",
   "pygments_lexer": "ipython3",
   "version": "3.6.6"
  }
 },
 "nbformat": 4,
 "nbformat_minor": 4
}
